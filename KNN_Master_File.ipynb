{
 "cells": [
  {
   "cell_type": "markdown",
   "id": "fc31d9b9",
   "metadata": {},
   "source": [
    "\n",
    "# 🧠 K-Nearest Neighbors (KNN) - Exhaustive Master Notebook\n",
    "\n",
    "Welcome to the **most exhaustive KNN learning notebook** you will find!\n",
    "\n",
    "## 📍 Learning Roadmap\n",
    "1. What is KNN? (Real-world analogy)\n",
    "2. Mathematical Intuition\n",
    "3. ASCII Visual Explanation\n",
    "4. Hyperparameters Tuning\n",
    "5. Evaluation Metrics\n",
    "6. Full Hands-On Practice (Easy ➔ Medium ➔ Complex)\n",
    "7. Cross Validation and Grid Search\n",
    "8. Error Analysis\n",
    "9. Common Mistakes and Solutions\n",
    "10. Where KNN Fits in ML Roadmap\n",
    "11. Final Takeaways\n",
    "12. Exercises for Self-Practice\n",
    "\n",
    "---\n"
   ]
  },
  {
   "cell_type": "markdown",
   "id": "e14ef677",
   "metadata": {},
   "source": [
    "\n",
    "# ✨ What is KNN? (Real World Analogy)\n",
    "\n",
    "Imagine moving into a new neighborhood 🏡. You want to know which sports are popular here. You ask your **5 nearest neighbors** — if 3 say \"football\" and 2 say \"basketball\", you assume \"football\" is the most common.\n",
    "\n",
    "This is exactly how **KNN works**!  \n",
    "It classifies based on the **majority class among nearest neighbors**.\n",
    "\n",
    "---\n"
   ]
  },
  {
   "cell_type": "markdown",
   "id": "61c1d4b9",
   "metadata": {},
   "source": [
    "\n",
    "# 🔢 Mathematical Intuition Behind KNN\n",
    "\n",
    "## 1. Calculate Distance\n",
    "Given two points (x1, y1) and (x2, y2), **Euclidean Distance**:\n",
    "\n",
    "\\[ Distance = \\sqrt{(x_2 - x_1)^2 + (y_2 - y_1)^2} \\]\n",
    "\n",
    "For n features:\n",
    "\n",
    "\\[ Distance = \\sqrt{\\sum_{i=1}^n (x_i - y_i)^2} \\]\n",
    "\n",
    "**Other distances:** Manhattan, Minkowski.\n",
    "\n",
    "## 2. Find K Nearest Neighbors\n",
    "Pick K points with the smallest distances.\n",
    "\n",
    "## 3. Vote / Average\n",
    "- **Classification** ➔ Majority Vote.\n",
    "- **Regression** ➔ Average Value.\n",
    "\n",
    "---\n"
   ]
  },
  {
   "cell_type": "markdown",
   "id": "9d1093cc",
   "metadata": {},
   "source": [
    "\n",
    "# 🎨 ASCII Visual Explanation\n",
    "\n",
    "```\n",
    "Query Point (Q)\n",
    "      |\n",
    "      |\n",
    "A----Q----B\n",
    " \\        /\n",
    "  \\      /\n",
    "   C----D\n",
    "```\n",
    "\n",
    "- Points A, B, C, D are neighbors.\n",
    "- We check distances and pick the closest 3 (for K=3).\n",
    "\n",
    "---\n"
   ]
  },
  {
   "cell_type": "markdown",
   "id": "e7bedbe7",
   "metadata": {},
   "source": [
    "\n",
    "# ⚙️ KNN Hyperparameters — Complete Exhaustive Guide\n",
    "\n",
    "## 1. `n_neighbors` (K value)\n",
    "- **Meaning**: Number of neighbors to consider for voting.\n",
    "- **Impact**: Controls bias-variance tradeoff.\n",
    "- **Low K (e.g., 1, 3)**: Low bias, high variance ➔ overfitting.\n",
    "- **High K (e.g., 15, 20)**: High bias, low variance ➔ underfitting.\n",
    "- **Best Practice**: Use **odd numbers** for binary classification to avoid ties.\n",
    "- **Tuning Tip**: Use **Cross-Validation** (GridSearchCV) to find best K. Plot K vs Validation Accuracy curve.\n",
    "\n",
    "## 2. `weights` (uniform vs distance)\n",
    "- **Meaning**: How to weight the neighbor votes.\n",
    "- **Options**: `'uniform'` ➔ All neighbors equal. `'distance'` ➔ Closer neighbors weighted more.\n",
    "- **Impact**: `'distance'` often improves noisy data performance.\n",
    "- **Tuning Tip**: Try both. Prefer `'distance'` in noisy datasets.\n",
    "\n",
    "## 3. `metric` (Distance Metric)\n",
    "- **Meaning**: Method used to calculate distance.\n",
    "- **Options**: `'euclidean'`, `'manhattan'`, `'minkowski'`.\n",
    "- **Impact**: Euclidean for normal data, Manhattan for sparse or outlier data.\n",
    "- **Tuning Tip**: Tune using GridSearchCV.\n",
    "\n",
    "## 4. `p` (only for Minkowski metric)\n",
    "- **Meaning**: Power for Minkowski distance.\n",
    "- **Options**: `p=1` ➔ Manhattan, `p=2` ➔ Euclidean.\n",
    "\n",
    "---\n",
    "\n",
    "# 📦 Best Hyperparameter Tuning Strategy:\n",
    "\n",
    "```python\n",
    "from sklearn.model_selection import GridSearchCV\n",
    "from sklearn.neighbors import KNeighborsClassifier\n",
    "\n",
    "param_grid = {\n",
    "    'n_neighbors': list(range(1, 30, 2)),\n",
    "    'weights': ['uniform', 'distance'],\n",
    "    'metric': ['euclidean', 'manhattan']\n",
    "}\n",
    "\n",
    "grid = GridSearchCV(KNeighborsClassifier(), param_grid, cv=5)\n",
    "grid.fit(X_train, y_train)\n",
    "\n",
    "print(\"Best Params:\", grid.best_params_)\n",
    "```\n",
    "\n",
    "✅ You find the best `K`, `weights`, and `metric` automatically!\n"
   ]
  },
  {
   "cell_type": "markdown",
   "id": "a8edceda",
   "metadata": {},
   "source": [
    "\n",
    "# 📊 Evaluation Metrics for KNN — Full Guide\n",
    "\n",
    "## 1. Accuracy\n",
    "- **Meaning**: (Correct predictions) / (Total predictions)\n",
    "- **Use when**: Classes are balanced.\n",
    "\n",
    "```python\n",
    "from sklearn.metrics import accuracy_score\n",
    "accuracy_score(y_test, y_pred)\n",
    "```\n",
    "\n",
    "## 2. Confusion Matrix\n",
    "- **Meaning**: TP, FP, TN, FN summary.\n",
    "- **Good for**: Understand model errors.\n",
    "\n",
    "```python\n",
    "from sklearn.metrics import confusion_matrix\n",
    "confusion_matrix(y_test, y_pred)\n",
    "```\n",
    "\n",
    "## 3. Precision, Recall, F1-Score\n",
    "| Metric | Meaning | Good When |\n",
    "|:-------|:--------|:----------|\n",
    "| Precision | Positive predictive value | Important if false positives costly |\n",
    "| Recall | True positive rate | Important if missing positives costly |\n",
    "| F1-Score | Balance between Precision & Recall | Best when classes are imbalanced |\n",
    "\n",
    "```python\n",
    "from sklearn.metrics import classification_report\n",
    "print(classification_report(y_test, y_pred))\n",
    "```\n",
    "\n",
    "## 4. ROC Curve and AUC\n",
    "- **Meaning**: Trade-off between TPR and FPR.\n",
    "- **Use when**: Probabilistic binary classification.\n",
    "\n",
    "```python\n",
    "from sklearn.metrics import roc_auc_score\n",
    "roc_auc_score(y_test, model.predict_proba(X_test)[:,1])\n",
    "```\n",
    "\n",
    "---\n",
    "\n",
    "# 🔥 Practical Metric Strategy:\n",
    "\n",
    "| Situation | Best Metric |\n",
    "|:----------|:------------|\n",
    "| Balanced binary classification | Accuracy |\n",
    "| Imbalanced classes | F1-Score, Precision-Recall |\n",
    "| Probabilistic binary classification | ROC-AUC |\n"
   ]
  },
  {
   "cell_type": "markdown",
   "id": "8eed7307",
   "metadata": {},
   "source": [
    "\n",
    "# 🛠️ Full Hands-On Code (Easy ➔ Medium ➔ Complex)\n",
    "\n",
    "Let's dive into coding with real datasets and real-world flows!\n"
   ]
  },
  {
   "cell_type": "markdown",
   "id": "2579127a",
   "metadata": {},
   "source": [
    "\n",
    "# 📘 K-Nearest Neighbors (**KNN**) - Beginner to Advanced\n",
    "\n",
    "This notebook walks you through **K-Nearest Neighbors (**KNN**)** classification using three real-world datasets of increasing complexity:\n",
    "- 🟢 Easy → *Iris Flower Classification*\n",
    "- 🟡 Medium → *Wine Quality Classification*\n",
    "- 🔴 Complex → *Fashion MNIST Image Classification*\n",
    "\n",
    "You'll learn:\n",
    "- What **KNN** is and when to use it\n",
    "- How to implement it with real datasets\n",
    "- Evaluate using metrics like accuracy, F1-score, and confusion matrix\n",
    "- Visualize performance across complexity levels\n"
   ]
  },
  {
   "cell_type": "markdown",
   "id": "10a6e3b2",
   "metadata": {},
   "source": [
    "### 🔍 Let's understand this code step-by-step:"
   ]
  },
  {
   "cell_type": "code",
   "execution_count": 1,
   "id": "64c6aca9",
   "metadata": {},
   "outputs": [],
   "source": [
    "\n",
    "import numpy as np\n",
    "import pandas as pd\n",
    "import matplotlib.pyplot as plt\n",
    "import seaborn as sns\n",
    "from sklearn.preprocessing import StandardScaler\n",
    "from sklearn.model_selection import train_test_split\n",
    "from sklearn.neighbors import KNeighborsClassifier\n",
    "from sklearn.metrics import accuracy_score, f1_score, confusion_matrix, classification_report\n",
    "sns.set(style='whitegrid')\n"
   ]
  },
  {
   "cell_type": "markdown",
   "id": "7a82dd21",
   "metadata": {},
   "source": [
    "✅ **Done!** Let's move to the next step.\n",
    "\n",
    "---"
   ]
  },
  {
   "cell_type": "markdown",
   "id": "0a96315f",
   "metadata": {},
   "source": [
    "\n",
    "## 🧠 What is **KNN**?\n",
    "\n",
    "K-Nearest Neighbors (**KNN**) is a **non-parametric** supervised classification algorithm that:\n",
    "- Stores the training data\n",
    "- Predicts a label based on the **majority vote** of the k-nearest points in the training set\n",
    "- Uses **distance metrics** (Euclidean by default) to compute \"closeness\"\n",
    "\n",
    "**KNN** is easy to understand and effective for many practical problems.\n"
   ]
  },
  {
   "cell_type": "markdown",
   "id": "c13be407",
   "metadata": {},
   "source": [
    "## 📚 Dataset Introduction\n",
    "\n",
    "## 🟢 Easy Dataset - Iris Flower Classification"
   ]
  },
  {
   "cell_type": "markdown",
   "id": "ee2d262e",
   "metadata": {},
   "source": [
    "### 🔍 Let's understand this code step-by-step:"
   ]
  },
  {
   "cell_type": "code",
   "execution_count": 2,
   "id": "c0c2c3c0",
   "metadata": {},
   "outputs": [
    {
     "name": "stdout",
     "output_type": "stream",
     "text": [
      "Accuracy: 1.0\n",
      "F1 Score (macro): 1.0\n",
      "\n",
      "Classification Report:\n",
      "              precision    recall  f1-score   support\n",
      "\n",
      "           0       1.00      1.00      1.00        10\n",
      "           1       1.00      1.00      1.00         9\n",
      "           2       1.00      1.00      1.00        11\n",
      "\n",
      "    accuracy                           1.00        30\n",
      "   macro avg       1.00      1.00      1.00        30\n",
      "weighted avg       1.00      1.00      1.00        30\n",
      "\n"
     ]
    },
    {
     "data": {
      "image/png": "[encoded data removed]",
      "text/plain": [
       "<Figure size 640x480 with 2 Axes>"
      ]
     },
     "metadata": {},
     "output_type": "display_data"
    }
   ],
   "source": [
    "\n",
    "from sklearn.datasets import load_iris\n",
    "\n",
    "iris = load_iris(as_frame=True)\n",
    "df_iris = iris.frame\n",
    "X = df_iris.drop(\"target\", axis=1)\n",
    "y = df_iris[\"target\"]\n",
    "\n",
    "X_train, X_test, y_train, y_test = train_test_split(X, y, test_size=0.2, random_state=42)\n",
    "scaler = StandardScaler()\n",
    "X_train_scaled = scaler.fit_transform(X_train)\n",
    "X_test_scaled = scaler.transform(X_test)\n",
    "\n",
    "knn = KNeighborsClassifier(n_neighbors=5)\n",
    "knn.fit(X_train_scaled, y_train)\n",
    "y_pred = knn.predict(X_test_scaled)\n",
    "\n",
    "print(\"Accuracy:\", accuracy_score(y_test, y_pred))\n",
    "print(\"F1 Score (macro):\", f1_score(y_test, y_pred, average='macro'))\n",
    "print(\"\\nClassification Report:\")\n",
    "print(classification_report(y_test, y_pred))\n",
    "\n",
    "sns.heatmap(confusion_matrix(y_test, y_pred), annot=True, fmt='d', cmap='Blues')\n",
    "plt.title(\"Iris - Confusion Matrix\")\n",
    "plt.show()\n"
   ]
  },
  {
   "cell_type": "markdown",
   "id": "e28c7039",
   "metadata": {},
   "source": [
    "✅ **Done!** Let's move to the next step.\n",
    "\n",
    "---"
   ]
  },
  {
   "cell_type": "markdown",
   "id": "358270ae",
   "metadata": {},
   "source": [
    "## 📚 Dataset Introduction\n",
    "\n",
    "## 🟡 Medium Dataset - Wine Quality (Binary Classification)"
   ]
  },
  {
   "cell_type": "markdown",
   "id": "89b0da65",
   "metadata": {},
   "source": [
    "### 🔍 Let's understand this code step-by-step:"
   ]
  },
  {
   "cell_type": "code",
   "execution_count": 3,
   "id": "11164cb1",
   "metadata": {},
   "outputs": [
    {
     "name": "stdout",
     "output_type": "stream",
     "text": [
      "Accuracy: 0.88125\n",
      "F1 Score: 0.5128205128205128\n",
      "\n",
      "Classification Report:\n",
      "              precision    recall  f1-score   support\n",
      "\n",
      "           0       0.91      0.96      0.93       273\n",
      "           1       0.65      0.43      0.51        47\n",
      "\n",
      "    accuracy                           0.88       320\n",
      "   macro avg       0.78      0.69      0.72       320\n",
      "weighted avg       0.87      0.88      0.87       320\n",
      "\n"
     ]
    },
    {
     "data": {
      "image/png": "[encoded data removed]",
      "text/plain": [
       "<Figure size 640x480 with 2 Axes>"
      ]
     },
     "metadata": {},
     "output_type": "display_data"
    }
   ],
   "source": [
    "\n",
    "df_wine = pd.read_csv('https://archive.ics.uci.edu/ml/machine-learning-databases/wine-quality/winequality-red.csv',sep=';')\n",
    "df_wine.head(5)\n",
    "df_wine['quality'] = (df_wine['quality'] >= 7).astype(int)\n",
    "\n",
    "X = df_wine.drop('quality', axis=1)\n",
    "y = df_wine['quality']\n",
    "\n",
    "X_train, X_test, y_train, y_test = train_test_split(X, y, test_size=0.2, random_state=42)\n",
    "scaler = StandardScaler()\n",
    "X_train_scaled = scaler.fit_transform(X_train)\n",
    "X_test_scaled = scaler.transform(X_test)\n",
    "\n",
    "knn = KNeighborsClassifier(n_neighbors=5)\n",
    "knn.fit(X_train_scaled, y_train)\n",
    "y_pred = knn.predict(X_test_scaled)\n",
    "\n",
    "print(\"Accuracy:\", accuracy_score(y_test, y_pred))\n",
    "print(\"F1 Score:\", f1_score(y_test, y_pred))\n",
    "print(\"\\nClassification Report:\")\n",
    "print(classification_report(y_test, y_pred))\n",
    "\n",
    "sns.heatmap(confusion_matrix(y_test, y_pred), annot=True, fmt='d', cmap='Purples')\n",
    "plt.title(\"Wine - Confusion Matrix\")\n",
    "plt.show()\n"
   ]
  },
  {
   "cell_type": "markdown",
   "id": "e749d416",
   "metadata": {},
   "source": [
    "✅ **Done!** Let's move to the next step.\n",
    "\n",
    "---"
   ]
  },
  {
   "cell_type": "markdown",
   "id": "c775f8ec",
   "metadata": {},
   "source": [
    "## 📚 Dataset Introduction\n",
    "\n",
    "## 🔴 Complex Dataset - Fashion MNIST"
   ]
  },
  {
   "cell_type": "markdown",
   "id": "142ad430",
   "metadata": {},
   "source": [
    "### 🔍 Let's understand this code step-by-step:"
   ]
  },
  {
   "cell_type": "code",
   "execution_count": 4,
   "id": "3d3d789f",
   "metadata": {},
   "outputs": [
    {
     "name": "stdout",
     "output_type": "stream",
     "text": [
      "Accuracy: 0.975\n",
      "F1 Score (macro): 0.9764652925607074\n",
      "\\nClassification Report:\n",
      "              precision    recall  f1-score   support\n",
      "\n",
      "           0       1.00      1.00      1.00        33\n",
      "           1       1.00      1.00      1.00        28\n",
      "           2       0.97      1.00      0.99        33\n",
      "           3       0.97      0.97      0.97        34\n",
      "           4       0.98      1.00      0.99        46\n",
      "           5       0.96      0.96      0.96        47\n",
      "           6       0.97      1.00      0.99        35\n",
      "           7       1.00      0.94      0.97        34\n",
      "           8       0.97      1.00      0.98        30\n",
      "           9       0.95      0.90      0.92        40\n",
      "\n",
      "    accuracy                           0.97       360\n",
      "   macro avg       0.98      0.98      0.98       360\n",
      "weighted avg       0.98      0.97      0.97       360\n",
      "\n"
     ]
    },
    {
     "data": {
      "image/png": "[encoded data removed]",
      "text/plain": [
       "<Figure size 640x480 with 2 Axes>"
      ]
     },
     "metadata": {},
     "output_type": "display_data"
    }
   ],
   "source": [
    "from sklearn.datasets import load_digits\n",
    "\n",
    "digits = load_digits()\n",
    "X = digits.data\n",
    "y = digits.target\n",
    "\n",
    "# Scale and split\n",
    "from sklearn.model_selection import train_test_split\n",
    "from sklearn.preprocessing import StandardScaler\n",
    "\n",
    "X_train, X_test, y_train, y_test = train_test_split(X, y, test_size=0.2, random_state=42)\n",
    "scaler = StandardScaler()\n",
    "X_train_scaled = scaler.fit_transform(X_train)\n",
    "X_test_scaled = scaler.transform(X_test)\n",
    "\n",
    "# KNN model\n",
    "from sklearn.neighbors import KNeighborsClassifier\n",
    "from sklearn.metrics import accuracy_score, f1_score, confusion_matrix, classification_report\n",
    "import seaborn as sns\n",
    "import matplotlib.pyplot as plt\n",
    "\n",
    "knn = KNeighborsClassifier(n_neighbors=5)\n",
    "knn.fit(X_train_scaled, y_train)\n",
    "y_pred = knn.predict(X_test_scaled)\n",
    "\n",
    "print(\"Accuracy:\", accuracy_score(y_test, y_pred))\n",
    "print(\"F1 Score (macro):\", f1_score(y_test, y_pred, average='macro'))\n",
    "print(\"\\\\nClassification Report:\")\n",
    "print(classification_report(y_test, y_pred))\n",
    "\n",
    "sns.heatmap(confusion_matrix(y_test, y_pred), annot=True, fmt='d', cmap='Greens')\n",
    "plt.title(\"Digits Dataset - Confusion Matrix\")\n",
    "plt.show()"
   ]
  },
  {
   "cell_type": "markdown",
   "id": "a9acdd65",
   "metadata": {},
   "source": [
    "✅ **Done!** Let's move to the next step.\n",
    "\n",
    "---"
   ]
  },
  {
   "cell_type": "markdown",
   "id": "b75fba7a",
   "metadata": {},
   "source": [
    "\n",
    "## 🎯 What You’ve Learned\n",
    "\n",
    "- **KNN** is intuitive and requires no training — just distance calculations.\n",
    "- Scaling is essential for fair comparison of features.\n",
    "- **KNN** can work well with small, low-dimensional data (Iris).\n",
    "- **KNN** struggles with high-dimensional data (Fashion MNIST) unless optimized.\n",
    "\n",
    "You can tune `n_neighbors`, `weights`, and use dimensionality reduction (like PCA) for better results.\n"
   ]
  },
  {
   "cell_type": "markdown",
   "id": "3029c279",
   "metadata": {},
   "source": [
    "# 🎯 Summary\n",
    "\n",
    "In this notebook, you learned:\n",
    "- What is **KNN** and how it works.\n",
    "- How to implement **KNN** step-by-step on Easy, Medium, and Complex datasets.\n",
    "- Common pitfalls to avoid while using **KNN**.\n",
    "\n",
    "---\n",
    "\n",
    "# 🌟 Keep Practicing!\n",
    "Machine Learning becomes easy when you practice regularly. Try using **KNN** on new datasets you find interesting! 🚀\n",
    "\n"
   ]
  },
  {
   "cell_type": "markdown",
   "id": "51791907",
   "metadata": {},
   "source": [
    "\n",
    "# 🔎 Cross Validation + GridSearchCV\n",
    "\n",
    "Instead of manually trying K values, automate it with **GridSearchCV**:\n",
    "\n",
    "```python\n",
    "from sklearn.model_selection import GridSearchCV\n",
    "\n",
    "param_grid = {\n",
    "    'n_neighbors': [3, 5, 7, 9],\n",
    "    'weights': ['uniform', 'distance'],\n",
    "    'metric': ['euclidean', 'manhattan']\n",
    "}\n",
    "\n",
    "grid = GridSearchCV(KNeighborsClassifier(), param_grid, cv=5)\n",
    "grid.fit(X_train, y_train)\n",
    "\n",
    "print(\"Best Parameters:\", grid.best_params_)\n",
    "```\n",
    "\n",
    "✅ This automatically finds the best K and metric!\n",
    "\n",
    "---\n"
   ]
  },
  {
   "cell_type": "markdown",
   "id": "340d4e47",
   "metadata": {},
   "source": [
    "\n",
    "# 🔍 Error Analysis\n",
    "\n",
    "After predictions:\n",
    "- Plot Confusion Matrix.\n",
    "- Check where KNN went wrong.\n",
    "- Plot decision boundaries if 2D data.\n",
    "\n",
    "**Tip:**  \n",
    "Wrong predictions often occur near class boundaries.\n",
    "\n",
    "---\n"
   ]
  },
  {
   "cell_type": "markdown",
   "id": "46693c51",
   "metadata": {},
   "source": [
    "\n",
    "# 🚨 Common Mistakes and Solutions\n",
    "\n",
    "| Mistake | Cause | Effect | Solution |\n",
    "|:--------|:------|:-------|:---------|\n",
    "| No Feature Scaling | Different scales | Wrong distance calculation | Use StandardScaler |\n",
    "| Very Low K | Noise fitting | Overfitting | Try 5, 7, 9 |\n",
    "| Very High K | Oversmoothing | Underfitting | Tune K properly |\n",
    "| High Dimensions | Curse of dimensionality | Distance meaningless | Apply PCA/feature selection |\n",
    "\n",
    "---\n"
   ]
  },
  {
   "cell_type": "markdown",
   "id": "2c4873a1",
   "metadata": {},
   "source": [
    "\n",
    "# 🛤️ Where Does KNN Fit in ML Roadmap?\n",
    "\n",
    "- **Start:** Simple instance-based learning.\n",
    "- **Next:** Move to tree-based (Decision Trees, Random Forests).\n",
    "- **Later:** Move to advanced models (Gradient Boosting, SVM, Neural Networks).\n",
    "\n",
    "✅ KNN is your foundation for understanding instance-based models.\n",
    "\n",
    "---\n"
   ]
  },
  {
   "cell_type": "markdown",
   "id": "d5ebc084",
   "metadata": {},
   "source": [
    "\n",
    "# 🎯 Final Takeaways\n",
    "\n",
    "- KNN is easy but powerful for small to medium datasets.\n",
    "- Always scale your data!\n",
    "- Always tune K properly.\n",
    "- Understand limitations in high-dimensional spaces.\n",
    "\n",
    "---\n"
   ]
  },
  {
   "cell_type": "markdown",
   "id": "23a1d8cf",
   "metadata": {},
   "source": [
    "\n",
    "# 🚀 Exercises for Self-Practice\n",
    "\n",
    "1. Apply KNN on **Iris Dataset** (very popular beginner dataset).\n",
    "2. Try KNN on **Wine Quality Dataset** (available in UCI Repository).\n",
    "3. Build your own dataset (e.g., classify fruits by size and weight).\n",
    "4. Plot decision boundaries manually if you have only 2 features.\n",
    "\n",
    "🔥 **Challenge:** Create a \"KNN Voting Animation\" using matplotlib!\n",
    "\n",
    "---\n"
   ]
  }
 ],
 "metadata": {
  "kernelspec": {
   "display_name": "agentic_ai_rag",
   "language": "python",
   "name": "python3"
  },
  "language_info": {
   "codemirror_mode": {
    "name": "ipython",
    "version": 3
   },
   "file_extension": ".py",
   "mimetype": "text/x-python",
   "name": "python",
   "nbconvert_exporter": "python",
   "pygments_lexer": "ipython3",
   "version": "3.10.16"
  }
 },
 "nbformat": 4,
 "nbformat_minor": 5
}
